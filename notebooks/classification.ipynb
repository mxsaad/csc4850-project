{
 "cells": [
  {
   "cell_type": "markdown",
   "id": "7c048c96-c80d-4230-80cb-ab5ca055cf96",
   "metadata": {},
   "source": [
    "# Classification"
   ]
  },
  {
   "cell_type": "markdown",
   "id": "cd337e62-5c8a-427b-bc4c-706e51672942",
   "metadata": {},
   "source": [
    "## 1. Data Loading and Exploration"
   ]
  },
  {
   "cell_type": "code",
   "execution_count": 5,
   "id": "c16bf67a-fcaa-481f-bf6c-67f43c0bf110",
   "metadata": {},
   "outputs": [
    {
     "name": "stdout",
     "output_type": "stream",
     "text": [
      "Train Data 1 - Dimensions: (150, 3312)\n",
      "Train Label 1 - Dimensions: (150, 1)\n",
      "Test Data 1 - Dimensions: (53, 3312)\n",
      "Train Data 1 - Missing Values: 9936\n",
      "Test Data 1 - Missing Values: 7021\n",
      "----------------------------------------\n",
      "Train Data 2 - Dimensions: (100, 9182)\n",
      "Train Label 2 - Dimensions: (100, 1)\n",
      "Test Data 2 - Dimensions: (74, 9182)\n",
      "Train Data 2 - Missing Values: 0\n",
      "Test Data 2 - Missing Values: 0\n",
      "----------------------------------------\n",
      "Train Data 3 - Dimensions: (6300, 13)\n",
      "Train Label 3 - Dimensions: (6300, 1)\n",
      "Test Data 3 - Dimensions: (2693, 13)\n",
      "Train Data 3 - Missing Values: 1886\n",
      "Test Data 3 - Missing Values: 0\n",
      "----------------------------------------\n",
      "Train Data 4 - Dimensions: (2547, 112)\n",
      "Train Label 4 - Dimensions: (2547, 1)\n",
      "Test Data 4 - Dimensions: (1092, 112)\n",
      "Train Data 4 - Missing Values: 0\n",
      "Test Data 4 - Missing Values: 0\n",
      "----------------------------------------\n",
      "Train Data 5 - Dimensions: (1119, 11)\n",
      "Train Label 5 - Dimensions: (1119, 1)\n",
      "Test Data 5 - Dimensions: (480, 11)\n",
      "Train Data 5 - Missing Values: 0\n",
      "Test Data 5 - Missing Values: 0\n",
      "----------------------------------------\n"
     ]
    }
   ],
   "source": [
    "import pandas as pd\n",
    "import numpy as np\n",
    "import os\n",
    "\n",
    "# File paths\n",
    "data_dir = \"../data\"\n",
    "\n",
    "# File names for training and test datasets\n",
    "train_files = [\"TrainData1.txt\", \"TrainData2.txt\", \"TrainData3.txt\", \"TrainData4.txt\", \"TrainData5.txt\"]\n",
    "train_label_files = [\"TrainLabel1.txt\", \"TrainLabel2.txt\", \"TrainLabel3.txt\", \"TrainLabel4.txt\", \"TrainLabel5.txt\"]\n",
    "test_files = [\"TestData1.txt\", \"TestData2.txt\", \"TestData3.txt\", \"TestData4.txt\", \"TestData5.txt\"]\n",
    "\n",
    "# Load each dataset into separate variables\n",
    "train_datasets = {}\n",
    "train_labels = {}\n",
    "test_datasets = {}\n",
    "\n",
    "for i in range(len(train_files)):\n",
    "    # Load training data and label using read_table for whitespace-separated data\n",
    "    train_datasets[f\"train_data_{i+1}\"] = pd.read_table(os.path.join(data_dir, train_files[i]), header=None, delim_whitespace=True)\n",
    "    train_labels[f\"train_label_{i+1}\"] = pd.read_table(os.path.join(data_dir, train_label_files[i]), header=None, delim_whitespace=True)\n",
    "    test_datasets[f\"test_data_{i+1}\"] = pd.read_table(os.path.join(data_dir, test_files[i]), header=None, delim_whitespace=True)\n",
    "    \n",
    "    # Display basic information for each dataset\n",
    "    print(f\"Train Data {i+1} - Dimensions: {train_datasets[f'train_data_{i+1}'].shape}\")\n",
    "    print(f\"Train Label {i+1} - Dimensions: {train_labels[f'train_label_{i+1}'].shape}\")\n",
    "    print(f\"Test Data {i+1} - Dimensions: {test_datasets[f'test_data_{i+1}'].shape}\")\n",
    "    \n",
    "    # Check for missing values\n",
    "    missing_count = (train_datasets[f\"train_data_{i+1}\"] == 1.00000000000000e+99).sum().sum()\n",
    "    print(f\"Train Data {i+1} - Missing Values: {missing_count}\")\n",
    "    \n",
    "    missing_count_test = (test_datasets[f\"test_data_{i+1}\"] == 1.00000000000000e+99).sum().sum()\n",
    "    print(f\"Test Data {i+1} - Missing Values: {missing_count_test}\")\n",
    "    print(\"-\" * 40)\n"
   ]
  },
  {
   "cell_type": "code",
   "execution_count": null,
   "id": "d895ba78-61e1-4021-b2c2-3a1d47fb6bc3",
   "metadata": {},
   "outputs": [],
   "source": []
  }
 ],
 "metadata": {
  "kernelspec": {
   "display_name": "Python 3 (ipykernel)",
   "language": "python",
   "name": "python3"
  },
  "language_info": {
   "codemirror_mode": {
    "name": "ipython",
    "version": 3
   },
   "file_extension": ".py",
   "mimetype": "text/x-python",
   "name": "python",
   "nbconvert_exporter": "python",
   "pygments_lexer": "ipython3",
   "version": "3.11.6"
  }
 },
 "nbformat": 4,
 "nbformat_minor": 5
}
