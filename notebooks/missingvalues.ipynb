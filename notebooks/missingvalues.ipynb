{
 "cells": [
  {
   "cell_type": "markdown",
   "metadata": {},
   "source": [
    "# Missing Value Estimation"
   ]
  },
  {
   "cell_type": "markdown",
   "metadata": {},
   "source": [
    "## 1. Data Loading and Exploration"
   ]
  },
  {
   "cell_type": "code",
   "execution_count": 2,
   "metadata": {},
   "outputs": [
    {
     "name": "stdout",
     "output_type": "stream",
     "text": [
      "Untouched Dataset 1 - Dimensions: (242, 14)\n",
      "Untouched Dataset 1 - Missing Values: 118\n",
      "----------------------------------------\n",
      "Untouched Dataset 2 - Dimensions: (758, 50)\n",
      "Untouched Dataset 2 - Missing Values: 3762\n",
      "----------------------------------------\n",
      "Untouched Dataset 3 - Dimensions: (273, 79)\n",
      "Untouched Dataset 3 - Missing Values: 17752\n",
      "----------------------------------------\n"
     ]
    }
   ],
   "source": [
    "import pandas as pd\n",
    "import numpy as np\n",
    "import os\n",
    "\n",
    "# File paths\n",
    "data_dir = \"../data\"\n",
    "\n",
    "# File names for Missing Data Datasets\n",
    "missing_data_files = [\"MissingData1.txt\", \"MissingData2.txt\", \"MissingData3.txt\"]\n",
    "\n",
    "# Load loading datasets into seperate variables\n",
    "missing_data_datasets = {}\n",
    "\n",
    "\n",
    "for i in range(len(missing_data_files)):\n",
    "    # Load training data and label using read_table for whitespace-separated data\n",
    "    missing_data_datasets[f\"missing_data_{i+1}\"] = pd.read_table(os.path.join(data_dir, missing_data_files[i]), header=None, sep='\\s+')\n",
    "\n",
    "    # Display basic information for each dataset\n",
    "    print(f\"Untouched Dataset {i+1} - Dimensions: {missing_data_datasets[f'missing_data_{i+1}'].shape}\")\n",
    "    \n",
    "    # Check for missing values\n",
    "    missing_count = (missing_data_datasets[f\"missing_data_{i+1}\"] == 1.00000000000000e+99).sum().sum()\n",
    "    print(f\"Untouched Dataset {i+1} - Missing Values: {missing_count}\")\n",
    "    print(\"-\" * 40)"
   ]
  }
 ],
 "metadata": {
  "kernelspec": {
   "display_name": "Python 3",
   "language": "python",
   "name": "python3"
  },
  "language_info": {
   "codemirror_mode": {
    "name": "ipython",
    "version": 3
   },
   "file_extension": ".py",
   "mimetype": "text/x-python",
   "name": "python",
   "nbconvert_exporter": "python",
   "pygments_lexer": "ipython3",
   "version": "3.11.9"
  }
 },
 "nbformat": 4,
 "nbformat_minor": 2
}
