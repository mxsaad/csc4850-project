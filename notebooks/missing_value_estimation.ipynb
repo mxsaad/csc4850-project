{
 "cells": [
  {
   "cell_type": "markdown",
   "id": "5f09a80c-e8eb-4c73-aa53-011a6a5e5e72",
   "metadata": {},
   "source": [
    "# Missing Value Estimation"
   ]
  },
  {
   "cell_type": "markdown",
   "id": "f97d31a0-6f3a-4ef8-8fa1-4db6ac1ab465",
   "metadata": {},
   "source": [
    "## Data Exploration"
   ]
  },
  {
   "cell_type": "code",
   "execution_count": 5,
   "id": "b85ab84e-48e8-40df-a96b-560dd6ba0e5e",
   "metadata": {},
   "outputs": [
    {
     "name": "stdout",
     "output_type": "stream",
     "text": [
      "Loading Dataset 1...\n",
      "Dataset 1 loaded:\n",
      " - Shape: (242, 14)\n",
      " - Total Values: 3388\n",
      " - Missing Values: 118 (3.48%)\n",
      "----------------------------------------\n",
      "Loading Dataset 2...\n",
      "Dataset 2 loaded:\n",
      " - Shape: (758, 50)\n",
      " - Total Values: 37900\n",
      " - Missing Values: 3762 (9.93%)\n",
      "----------------------------------------\n",
      "Loading Dataset 3...\n",
      "Dataset 3 loaded:\n",
      " - Shape: (273, 79)\n",
      " - Total Values: 21567\n",
      " - Missing Values: 17752 (82.31%)\n",
      "----------------------------------------\n"
     ]
    }
   ],
   "source": [
    "import pandas as pd\n",
    "import numpy as np\n",
    "\n",
    "# File paths for the missing data datasets\n",
    "file_paths = {\n",
    "    1: \"../data/MissingData1.txt\",\n",
    "    2: \"../data/MissingData2.txt\",\n",
    "    3: \"../data/MissingData3.txt\"\n",
    "}\n",
    "\n",
    "# Dictionary to store loaded datasets\n",
    "missing_datasets = {}\n",
    "\n",
    "# Load each dataset and replace missing values (1.00000000000000e+99) with NaN\n",
    "for dataset_index, file_path in file_paths.items():\n",
    "    print(f\"Loading Dataset {dataset_index}...\")\n",
    "    \n",
    "    # Load the dataset (assume tab-separated for .txt files)\n",
    "    data = pd.read_csv(file_path, sep=\"\\t\", header=None)\n",
    "    \n",
    "    # Replace missing value placeholder with NaN\n",
    "    data.replace(1.00000000000000e+99, np.nan, inplace=True)\n",
    "    \n",
    "    # Store the dataset in the dictionary\n",
    "    missing_datasets[dataset_index] = data\n",
    "    \n",
    "    # Print basic information about the dataset\n",
    "    total_values = data.size\n",
    "    missing_values = data.isna().sum().sum()\n",
    "    missing_percentage = (missing_values / total_values) * 100\n",
    "    print(f\"Dataset {dataset_index} loaded:\")\n",
    "    print(f\" - Shape: {data.shape}\")\n",
    "    print(f\" - Total Values: {total_values}\")\n",
    "    print(f\" - Missing Values: {missing_values} ({missing_percentage:.2f}%)\")\n",
    "    print(\"-\" * 40)"
   ]
  },
  {
   "cell_type": "code",
   "execution_count": null,
   "id": "5f84d8d8-8f3a-485a-80b8-1f2ab65353c4",
   "metadata": {},
   "outputs": [],
   "source": []
  }
 ],
 "metadata": {
  "kernelspec": {
   "display_name": "Python 3 (ipykernel)",
   "language": "python",
   "name": "python3"
  },
  "language_info": {
   "codemirror_mode": {
    "name": "ipython",
    "version": 3
   },
   "file_extension": ".py",
   "mimetype": "text/x-python",
   "name": "python",
   "nbconvert_exporter": "python",
   "pygments_lexer": "ipython3",
   "version": "3.11.6"
  }
 },
 "nbformat": 4,
 "nbformat_minor": 5
}
